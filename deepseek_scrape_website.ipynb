{
 "cells": [
  {
   "cell_type": "code",
   "execution_count": 2,
   "id": "301b28fc-f106-4667-8546-fafbdb017e10",
   "metadata": {},
   "outputs": [],
   "source": [
    "import os\n",
    "import requests\n",
    "from dotenv import load_dotenv\n",
    "from bs4 import BeautifulSoup\n",
    "from IPython.display import Markdown, display\n",
    "from openai import OpenAI\n",
    "from searchwebsite import Website"
   ]
  },
  {
   "cell_type": "code",
   "execution_count": 3,
   "id": "d76014eb-941b-4e26-b2f5-c9e4fc02ce34",
   "metadata": {},
   "outputs": [],
   "source": [
    "website = Website(\"https://www.koraaitech.com/\")\n",
    "# print(website.title)\n",
    "# print(website.text)\n",
    "# website.links"
   ]
  },
  {
   "cell_type": "code",
   "execution_count": 4,
   "id": "d75bb7f7-bbae-46a4-a6ef-604b1af5b8a8",
   "metadata": {},
   "outputs": [],
   "source": [
    "messages = [\n",
    "        {\"role\": \"system\", \"content\": \"You are a helpful assistant.\"},\n",
    "        {\"role\": \"user\", \"content\": (\n",
    "            \"Here’s a list of URLs I’d like you to analyze:\\n\\n\"\n",
    "            f\"{website.links}\\n\\n\"\n",
    "            \"Can you please:\\n\"\n",
    "            \"1. Use all the links that will be useful for creating a profession resume\\n\"\n",
    "            \"2. Extract domain names.\\n\"\n",
    "            \"3. Summarize what kind of content lives at each URL (e.g. blog post, homepage, contact page).\"\n",
    "        )}\n",
    "    ]"
   ]
  },
  {
   "cell_type": "code",
   "execution_count": 6,
   "id": "6550dcc5-125c-4e0d-9f1d-d8846b542ce0",
   "metadata": {},
   "outputs": [],
   "source": [
    "# This may take a few minutes to run! You should then see a fascinating \"thinking\" trace inside <think> tags, followed by some decent definitions\n",
    "from openai import OpenAI\n",
    "ollama_via_openai = OpenAI(base_url='http://localhost:11434/v1', api_key='ollama')\n",
    "\n",
    "response = ollama_via_openai.chat.completions.create(\n",
    "    model=\"deepseek-r1:1.5b\",\n",
    "    messages= messages\n",
    ")\n",
    "\n",
    "ass_response = response.choices[0].message.content"
   ]
  },
  {
   "cell_type": "code",
   "execution_count": 7,
   "id": "792c3c3f-7360-4f90-ab02-0fac4ad8afc9",
   "metadata": {},
   "outputs": [],
   "source": [
    "system_prompt = \"You are an assistant that analyzes the contents of a website \\\n",
    "and provide a resume, look for infomation from other links provided \\\n",
    "Respond in markdown.\""
   ]
  },
  {
   "cell_type": "code",
   "execution_count": 8,
   "id": "fd296127-5cb7-499b-882a-9ff4c419f66f",
   "metadata": {},
   "outputs": [],
   "source": [
    "user_prompt = f\"You are looking at a website titled {website.title}\"\n",
    "user_prompt += \"\\nThe contents of this website is as follows; \\\n",
    "please create a professional resume pass ATS in markdown. \\n\\n\"\n",
    "user_prompt += website.text\n",
    "user_prompt += ass_response"
   ]
  },
  {
   "cell_type": "code",
   "execution_count": 9,
   "id": "d7349393-d26d-4cbb-b669-7f5c6c88be2c",
   "metadata": {},
   "outputs": [],
   "source": [
    "messages = [\n",
    "        {\"role\": \"system\", \"content\": system_prompt},\n",
    "        {\"role\": \"user\", \"content\": user_prompt}\n",
    "    ]"
   ]
  },
  {
   "cell_type": "code",
   "execution_count": 11,
   "id": "c90e4b28-6af1-4c2d-ace3-e02d90e1117f",
   "metadata": {},
   "outputs": [
    {
     "data": {
      "text/markdown": [
       "<think>\n",
       "Okay, so I need to create a professional resume using data from this website. There are several links provided that link to different domains, mostly focusing on machine learning (ML) and AI services. Some of them look like blogs or interview questions, while others seem related to LinkedIn stats.\n",
       "\n",
       "First, I'll start by looking at each domain one by one and see what they offer:\n",
       "\n",
       "1. **Medium.com/yoururl**\n",
       "2. **LinkedIn.com/yoururl**\n",
       "3. Some of these look like blog posts or interview guides\n",
       "\n",
       "For Medium links:\n",
       "- If I have a personal blog on AI agents or data science, I can highlight that here to showcase my expertise.\n",
       "\n",
       "For LinkedIn stats:\n",
       "- Could be useful for professional summaries if I plan to use it later. \n",
       "\n",
       "Other links just seem to be regular LinkedIn profiles with some extra info they’d want to share (like company stats or projects). So, unless there's a way to optimize those specifically, their content may already be valuable.\n",
       "\n",
       "I should also consider which one contributes more significantly to my resume, primarily because only two of the URLs I had initially mentioned were from Medium. But maybe this could be used strategically for other forms. However, since it's part of what I might use in the future, LinkedIn stats are a lot more useful and can help people notice me right away when addressing tech-related questions.\n",
       "\n",
       "In summary, while the links aren't exclusively professional content to directly highlight on my resume (since most is just LinkedIn profiles with extra info), they could serve different roles depending on how I structure it. Medium seems especially valuable for creating detailed content that showcases expertise in specific areas of AI or data science.\n",
       "</think>\n",
       "\n",
       "Based on my previous response, here's a more structured outline:\n",
       "\n",
       "---\n",
       "\n",
       "### **Creating Your Resume**\n",
       "1. **Focus on Professional Content**:\n",
       "   - Use **Medium link pages** (specific URLs) where possible to create detailed content for your resume.\n",
       "\n",
       "2. **Utilize LinkedIn Stats and Profiles**:\n",
       "   - If you plan to use these LinkedIn profiles in the future, they can provide valuable information for professional summaries or contact purposes. LinkedIn stats may help enhance professionalism.\n",
       "\n",
       "---\n",
       "\n",
       "### 1. **Medium Links**\n",
       "- Use Medium links (e.g., `/ Medium.com/premkumarkora` where your personal URL matches) for detailed content like:\n",
       "  - Blog posts\n",
       "  - AI agent knowledge\n",
       "  - AI training strategies\n",
       "  - Expert tips on how to tackle specific challenges\n",
       "\n",
       "---\n",
       "\n",
       "### 2. **LinkedIn Stats**\n",
       "- LinkedIn stats can provide relevant info for professional summaries or contact purposes if you're using the LinkedIn profiles in your resume.\n",
       "\n",
       "---\n",
       "\n",
       "In summary, **Medium links** are particularly valuable as they allow you to create detailed content that showcases expertise explicitly needed for your resume. If focused on your career goals, LinkedIn stats could enhance professionalism for future contexts like a professional summary."
      ],
      "text/plain": [
       "<IPython.core.display.Markdown object>"
      ]
     },
     "metadata": {},
     "output_type": "display_data"
    }
   ],
   "source": [
    "response = ollama_via_openai.chat.completions.create(\n",
    "    model=\"deepseek-r1:1.5b\",\n",
    "    messages= messages\n",
    ")\n",
    "\n",
    "display(Markdown(response.choices[0].message.content))"
   ]
  },
  {
   "cell_type": "code",
   "execution_count": null,
   "id": "19fdb4f5-8b60-46c7-b93c-6b0e37565ec7",
   "metadata": {},
   "outputs": [],
   "source": []
  }
 ],
 "metadata": {
  "kernelspec": {
   "display_name": "Python 3 (ipykernel)",
   "language": "python",
   "name": "python3"
  },
  "language_info": {
   "codemirror_mode": {
    "name": "ipython",
    "version": 3
   },
   "file_extension": ".py",
   "mimetype": "text/x-python",
   "name": "python",
   "nbconvert_exporter": "python",
   "pygments_lexer": "ipython3",
   "version": "3.11.12"
  }
 },
 "nbformat": 4,
 "nbformat_minor": 5
}
